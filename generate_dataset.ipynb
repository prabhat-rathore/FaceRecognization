{
 "cells": [
  {
   "cell_type": "code",
   "execution_count": 2,
   "metadata": {},
   "outputs": [
    {
     "ename": "AttributeError",
     "evalue": "module 'cv2.cv2' has no attribute 'face'",
     "output_type": "error",
     "traceback": [
      "\u001b[1;31m---------------------------------------------------------------------------\u001b[0m",
      "\u001b[1;31mAttributeError\u001b[0m                            Traceback (most recent call last)",
      "\u001b[1;32m<ipython-input-2-d4e91a11b80e>\u001b[0m in \u001b[0;36m<module>\u001b[1;34m\u001b[0m\n\u001b[0;32m     32\u001b[0m \u001b[1;33m\u001b[0m\u001b[0m\n\u001b[0;32m     33\u001b[0m \u001b[1;31m# Loading custom classifier to recognize\u001b[0m\u001b[1;33m\u001b[0m\u001b[1;33m\u001b[0m\u001b[1;33m\u001b[0m\u001b[0m\n\u001b[1;32m---> 34\u001b[1;33m \u001b[0mclf\u001b[0m \u001b[1;33m=\u001b[0m \u001b[0mcv2\u001b[0m\u001b[1;33m.\u001b[0m\u001b[0mface\u001b[0m\u001b[1;33m.\u001b[0m\u001b[0mLBPHFaceRecognizer_create\u001b[0m\u001b[1;33m(\u001b[0m\u001b[1;33m)\u001b[0m\u001b[1;33m\u001b[0m\u001b[1;33m\u001b[0m\u001b[0m\n\u001b[0m\u001b[0;32m     35\u001b[0m \u001b[0mclf\u001b[0m\u001b[1;33m.\u001b[0m\u001b[0mread\u001b[0m\u001b[1;33m(\u001b[0m\u001b[1;34m\"classifier.yml\"\u001b[0m\u001b[1;33m)\u001b[0m\u001b[1;33m\u001b[0m\u001b[1;33m\u001b[0m\u001b[0m\n\u001b[0;32m     36\u001b[0m \u001b[1;33m\u001b[0m\u001b[0m\n",
      "\u001b[1;31mAttributeError\u001b[0m: module 'cv2.cv2' has no attribute 'face'"
     ]
    }
   ],
   "source": [
    "import cv2\n",
    "\n",
    "# Method to generate dataset to recognize a person\n",
    "def generate_dataset(img, i_d, img_id):\n",
    "    # write image in data dir\n",
    "    cv2.imwrite(\"Data/user.\"+str(i_d)+\".\"+str(img_id)+\".jpg\", img)\n",
    "\n",
    "# Method to draw boundary around the detected feature\n",
    "def draw_boundary(img, classifier, scaleFactor, minNeighbors, color, text):\n",
    "    # Converting image to gray-scale\n",
    "    gray_img = cv2.cvtColor(img, cv2.COLOR_BGR2GRAY)\n",
    "    # detecting features in gray-scale image, returns coordinates, width and height of features\n",
    "    features = classifier.detectMultiScale(gray_img, scaleFactor, minNeighbors)\n",
    "    coords = []\n",
    "    # drawing rectangle around the feature and labeling it\n",
    "    for (x, y, w, h) in features:\n",
    "        cv2.rectangle(img, (x,y), (x+w, y+h), color, 2)\n",
    "        cv2.putText(img, text, (x, y-4), cv2.FONT_HERSHEY_SIMPLEX, 0.8, color, 1, cv2.LINE_AA)\n",
    "        coords = [x, y, w, h]\n",
    "    return coords\n",
    "\n",
    "# Method to detect the features\n",
    "def detect(img, faceCascade, img_id):\n",
    "    color = {\"blue\":(255,0,0), \"red\":(0,0,255), \"green\":(0,255,0), \"white\":(255,255,255)}\n",
    "    coords = draw_boundary(img, faceCascade, 1.1, 10, color['blue'], \"Face\")\n",
    "    # If feature is detected, the draw_boundary method will return the x,y coordinates and width and height of rectangle else the length of coords will be 0\n",
    "    if len(coords)==4:\n",
    "        # Updating region of interest by cropping image\n",
    "        roi_img = img[coords[1]:coords[1]+coords[3], coords[0]:coords[0]+coords[2]]\n",
    "        # Assign unique id to each user\n",
    "        user_id = 1\n",
    "        # img_id to make the name of each image unique\n",
    "        generate_dataset(roi_img, user_id, img_id)\n",
    "\n",
    "    return img\n",
    "\n",
    "\n",
    "# Loading classifiers\n",
    "faceCascade = cv2.CascadeClassifier('haarcascade_frontalface_default.xml')\n",
    "\n",
    "\n",
    "# Capturing real time video stream. 0 for built-in web-cams, 0 or -1 for external web-cams\n",
    "video_capture = cv2.VideoCapture(0)\n",
    "\n",
    "# Initialize img_id with 0\n",
    "img_id = 0\n",
    "\n",
    "while True:\n",
    "    if img_id % 50 == 0:\n",
    "        print(\"Collected \", img_id,\" images\")\n",
    "    # Reading image from video stream\n",
    "    _, img = video_capture.read()\n",
    "    # Call method we defined above\n",
    "    img = detect(img, faceCascade, img_id)\n",
    "    # Writing processed image in a new window\n",
    "    cv2.imshow(\"face detection\", img)\n",
    "    img_id += 1\n",
    "    if cv2.waitKey(1) & 0xFF == ord('q'):\n",
    "        break\n",
    "\n",
    "# releasing web-cam\n",
    "video_capture.release()\n",
    "# Destroying output window\n",
    "cv2.destroyAllWindows()"
   ]
  },
  {
   "cell_type": "code",
   "execution_count": null,
   "metadata": {},
   "outputs": [],
   "source": []
  },
  {
   "cell_type": "code",
   "execution_count": null,
   "metadata": {},
   "outputs": [],
   "source": []
  }
 ],
 "metadata": {
  "kernelspec": {
   "display_name": "Python 3",
   "language": "python",
   "name": "python3"
  },
  "language_info": {
   "codemirror_mode": {
    "name": "ipython",
    "version": 3
   },
   "file_extension": ".py",
   "mimetype": "text/x-python",
   "name": "python",
   "nbconvert_exporter": "python",
   "pygments_lexer": "ipython3",
   "version": "3.8.5"
  }
 },
 "nbformat": 4,
 "nbformat_minor": 4
}
